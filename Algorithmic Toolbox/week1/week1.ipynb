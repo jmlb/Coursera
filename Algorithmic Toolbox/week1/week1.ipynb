{
 "cells": [
  {
   "cell_type": "markdown",
   "metadata": {},
   "source": [
    "# Problem:\n",
    "\n",
    "Given a sequences of non-negative integers $a_0, a_1, ...., a_{n-1}$ find maximum pairwise product that is, the largest integer that can be obtained by multiplying 2 different elements from the sequence max $a_i * a_j$\n",
    "\n",
    "exple: $n=3$\n",
    "1 2 3\n",
    "output = 6\n",
    "\n",
    "Implementing a faster solution. The program performs about $n^2$ steps, on a sequence of length $n$.\n",
    "\n",
    "\n",
    "# Stress Testing\n",
    "\n",
    "A stress test consists of 4 parts.\n",
    "\n",
    "USe a brut force technique and the implemented algorithm and compare result.\n",
    "\n",
    "Generate random number between $n=2$ and $n$ (number of examples).\n",
    "\n",
    "Lauch both algorithm\n",
    "\n",
    "Create a test testing code.\n",
    "\n",
    "Test on a few small manual test\n",
    "\n",
    "test for each type of answers\n",
    "test on a large test cases\n",
    "\n",
    "test on corner cases\n",
    "Apply stress testing\n",
    "\n",
    "Problem: Given a "
   ]
  },
  {
   "cell_type": "code",
   "execution_count": 7,
   "metadata": {
    "collapsed": false
   },
   "outputs": [
    {
     "name": "stderr",
     "output_type": "stream",
     "text": [
      "/Users/jmlbeaujour/anaconda/lib/python3.5/site-packages/IPython/core/magics/extension.py:47: UserWarning: %install_ext` is deprecated, please distribute your extension as a python package.\n",
      "  \"as a python package.\", UserWarning)\n"
     ]
    },
    {
     "name": "stdout",
     "output_type": "stream",
     "text": [
      "Installed tikzmagic.py. To use it, type:\n",
      "  %load_ext tikzmagic\n"
     ]
    }
   ],
   "source": [
    "# %install_ext https://raw.githubusercontent.com/meduz/ipython_magics/master/tikzmagic.py"
   ]
  },
  {
   "cell_type": "code",
   "execution_count": 11,
   "metadata": {
    "collapsed": false
   },
   "outputs": [
    {
     "name": "stdout",
     "output_type": "stream",
     "text": [
      "The tikzmagic extension is already loaded. To reload it, use:\n",
      "  %reload_ext tikzmagic\n"
     ]
    },
    {
     "data": {
      "image/png": "[encoded data removed]"
     },
     "metadata": {},
     "output_type": "display_data"
    }
   ],
   "source": [
    "%load_ext tikzmagic\n",
    "\n",
    "%tikz \\draw (0,0) rectangle (1,1);"
   ]
  },
  {
   "cell_type": "code",
   "execution_count": null,
   "metadata": {
    "collapsed": true
   },
   "outputs": [],
   "source": []
  }
 ],
 "metadata": {
  "kernelspec": {
   "display_name": "Python 3",
   "language": "python",
   "name": "python3"
  },
  "language_info": {
   "codemirror_mode": {
    "name": "ipython",
    "version": 3
   },
   "file_extension": ".py",
   "mimetype": "text/x-python",
   "name": "python",
   "nbconvert_exporter": "python",
   "pygments_lexer": "ipython3",
   "version": "3.5.1"
  }
 },
 "nbformat": 4,
 "nbformat_minor": 0
}
