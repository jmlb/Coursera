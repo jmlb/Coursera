{
 "cells": [
  {
   "cell_type": "markdown",
   "metadata": {},
   "source": [
    "Boosting a decision stump\n",
    "\n",
    "In this homework you will implement your own boosting module.\n",
    "\n",
    "Brace yourselves! This is going to be a fun and challenging assignment.\n",
    "\n",
    "Use SFrames to do some feature engineering.\n",
    "Train a boosted ensemble of decision-trees (gradient boosted trees) on the lending club dataset.\n",
    "Predict whether a loan will default along with prediction probabilities (on a validation set).\n",
    "Evaluate the trained model and compare it with a baseline.\n",
    "Find the most positive and negative loans using the learned model.\n",
    "Explore how the number of trees influences classification performance.\n",
    "\n"
   ]
  },
  {
   "cell_type": "code",
   "execution_count": 1036,
   "metadata": {
    "collapsed": true
   },
   "outputs": [],
   "source": [
    "import pandas as pd\n",
    "import numpy as np\n",
    "import json\n",
    "import matplotlib.pyplot as plt\n",
    "from math import log\n",
    "from math import exp\n",
    "%matplotlib inline"
   ]
  },
  {
   "cell_type": "code",
   "execution_count": 1037,
   "metadata": {
    "collapsed": false
   },
   "outputs": [
    {
     "name": "stdout",
     "output_type": "stream",
     "text": [
      "Number of features in original data file: 68\n",
      "Number of features in selected columns: 4\n"
     ]
    }
   ],
   "source": [
    "#We will be using a dataset from the LendingClub.\n",
    "#1. Load the dataset into a data frame named loans.\n",
    "#Extracting the target and the feature columns\n",
    "#2. We will now repeat some of the feature processing steps that we saw in the previous assignment:\n",
    "#First, we re-assign the target to have +1 as a safe (good) loan, and -1 as a risky (bad) loan.\n",
    "#Next, we select four categorical features:\n",
    "#grade of the loan\n",
    "#the length of the loan term\n",
    "#the home ownership status: own, mortgage, rent\n",
    "#number of years of employment.\n",
    "dataFile = r'lending-club-data.csv'\n",
    "#1. Load in the LendingClub dataset \n",
    "loans = pd.read_csv(dataFile, header=0, low_memory=False)\n",
    "#2. Reassign the labels to have +1 for a safe loan, and -1 for a risky (bad) loan.\n",
    "#The target column (label column) of the dataset that we are interested in is \n",
    "#called bad_loans. In this column 1means a risky (bad) loan 0 means a safe loan.\n",
    "#In order to make this more intuitive and consistent with the lectures, we reassign the target to be:\n",
    "#+1 as a safe loan\n",
    "#-1 as a risky (bad) loan\n",
    "#3. We put this in a new column called safe_loans.\n",
    "\n",
    "loans['safe_loans'] = loans['bad_loans'].apply(lambda x : +1 if x==0 else -1)\n",
    "#delete column 'bad_loans'\n",
    "loans = loans.drop('bad_loans', 1)\n",
    "\n",
    "#Exploring some features\n",
    "#2. Let's quickly explore what the dataset looks like. \n",
    "#First, print out the column names to see what features we have in this dataset.\n",
    "features = loans.columns.values\n",
    "print('Number of features in original data file:', np.shape(features)[0])\n",
    "\n",
    "#Selecting features\n",
    "#In this assignment, we will be using a subset of features (categorical and numeric). \n",
    "#The features we will be using are described in the code comments below. \n",
    "#If you are a finance geek, the LendingClub website has a lot more details about these features.\n",
    "target = 'safe_loans'\n",
    "features = ['grade',              # grade of the loan\n",
    "            'term',               # the term of the loan\n",
    "            'home_ownership',     # home ownership status: own, mortgage or rent\n",
    "            'emp_length',         # number of years of employment\n",
    "           ]\n",
    "\n",
    "#Recall from the lectures that one \n",
    "#common approach to coping with missing values is to \n",
    "#skip observations that contain missing values.\n",
    "\n",
    "loans = loans[[target] + features].dropna()\n",
    "print('Number of features in selected columns:', loans.shape[1] -1 )\n",
    "#Apply one-hot encoding to loans. Your tool may have a function for one-hot encoding. \n",
    "#Alternatively, see #7 for implementation hints."
   ]
  },
  {
   "cell_type": "code",
   "execution_count": 1038,
   "metadata": {
    "collapsed": false
   },
   "outputs": [
    {
     "name": "stdout",
     "output_type": "stream",
     "text": [
      "Number of features after hot encoding: 25\n",
      "['grade_A' 'grade_B' 'grade_C' 'grade_D' 'grade_E' 'grade_F' 'grade_G'\n",
      " 'term_ 36 months' 'term_ 60 months' 'home_ownership_MORTGAGE'\n",
      " 'home_ownership_OTHER' 'home_ownership_OWN' 'home_ownership_RENT'\n",
      " 'emp_length_1 year' 'emp_length_10+ years' 'emp_length_2 years'\n",
      " 'emp_length_3 years' 'emp_length_4 years' 'emp_length_5 years'\n",
      " 'emp_length_6 years' 'emp_length_7 years' 'emp_length_8 years'\n",
      " 'emp_length_9 years' 'emp_length_< 1 year' 'emp_length_n/a']\n"
     ]
    }
   ],
   "source": [
    "#Apply one-hot encoding to loans. \n",
    "\n",
    "loans = pd.get_dummies(loans)\n",
    "\n",
    "#Load the JSON files into the lists train_idx and test_idx.\n",
    "#Perform train/validation split using train_idx and test_idx. In Pandas, for instance:\n",
    "\n",
    "print('Number of features after hot encoding:', loans.shape[1] -1 )\n",
    "#print('features list after hot encoding:', loans.columns.values )\n",
    "\n",
    "#Split data into training and validation\n",
    "#8. We split the data into training data and test data.\n",
    "train_idx = json.load(open(r'module-8-assignment-2-train-idx.json')) \n",
    "test_idx = json.load(open(r'module-8-assignment-2-test-idx.json'))\n",
    "train_data = loans.iloc[train_idx]\n",
    "test_data = loans.iloc[test_idx]\n",
    "\n",
    "features_list = (loans.drop(target, 1)).columns.values\n",
    "print(features_list)"
   ]
  },
  {
   "cell_type": "markdown",
   "metadata": {},
   "source": [
    "Weighted decision trees\n",
    "\n",
    "7. Let's modify our decision tree code from Module 5 to support weighting of individual data points.\n",
    "\n",
    "Weighted error definition\n",
    "\n",
    "8. Consider a model with N data points with:\n",
    "\n",
    "Predictions ŷ_1, ..., ŷ_n\n",
    "Target y_1, ..., y_n\n",
    "Data point weights α_1, ..., α_n\n",
    "Then the weighted error is defined by:\n",
    "\n",
    "\n",
    "where 1[ y_i ≠ ŷ_i ] is an indicator function that is set to 1 if y_i ≠ ŷ_i.\n",
    "\n",
    "Write a function to compute weight of mistakes\n",
    "\n",
    "9. Write a function that calculates the weight of mistakes for making the \"weighted-majority\" predictions for a dataset. The function accepts two inputs:\n",
    "\n",
    "labels_in_node: y_1, ..., y_n\n",
    "data_weights: Data point weights α_1, ..., α_n\n",
    "We are interested in computing the (total) weight of mistakes, i.e.\n",
    "\n",
    "\n",
    "This quantity is analogous to the number of mistakes, except that each mistake now carries different weight. It is related to the weighted error in the following way:\n",
    "\n",
    "\n",
    "The function intermediate_node_weighted_mistakes should first compute two weights:\n",
    "\n",
    "WM(−1): weight of mistakes when all predictions are ŷ_i = −1 i.e. WM(α,−1)\n",
    "WM(+1): weight of mistakes when all predictions are ŷ_i = +1 i.e. WM(α,+1)\n",
    "where −1 and +1 are vectors where all values are -1 and +1 respectively."
   ]
  },
  {
   "cell_type": "code",
   "execution_count": 1039,
   "metadata": {
    "collapsed": true
   },
   "outputs": [],
   "source": [
    "def intermediate_node_weighted_mistakes(labels_in_node, data_weights):\n",
    "    # Sum the weights of all entries with label +1\n",
    "    total_weight_positive = sum(data_weights[labels_in_node == +1])\n",
    "    \n",
    "    # Weight of mistakes for predicting all -1's is equal to the sum above\n",
    "    ### YOUR CODE HERE\n",
    "    weighted_mistakes_all_negative = sum(data_weights[labels_in_node == +1])/sum(data_weights)\n",
    "    \n",
    "    # Sum the weights of all entries with label -1\n",
    "    ### YOUR CODE HERE\n",
    "    total_weight_negative = sum(data_weights[labels_in_node == -1])\n",
    "    \n",
    "    # Weight of mistakes for predicting all +1's is equal to the sum above\n",
    "    ### YOUR CODE HERE\n",
    "    weighted_mistakes_all_positive = sum(data_weights[labels_in_node == -1])/sum(data_weights)\n",
    "    \n",
    "    # Return the tuple (weight, class_label) representing the lower of the two weights\n",
    "    #    class_label should be an integer of value +1 or -1.\n",
    "    # If the two weights are identical, return (weighted_mistakes_all_positive,+1)\n",
    "    ### YOUR CODE HERE\n",
    "    if weighted_mistakes_all_negative > weighted_mistakes_all_positive:\n",
    "        return ( weighted_mistakes_all_negative, -1 )\n",
    "    else:\n",
    "        return ( weighted_mistakes_all_positive, +1 )"
   ]
  },
  {
   "cell_type": "code",
   "execution_count": 1040,
   "metadata": {
    "collapsed": false
   },
   "outputs": [
    {
     "name": "stdout",
     "output_type": "stream",
     "text": [
      "Quiz Question: If we set the weights α=1 for all data points, how is the weight of mistakes WM(α,ŷ) related to the classification error?\n",
      "same\n"
     ]
    }
   ],
   "source": [
    "#Recall that the classification error is defined as follows:\n",
    "print('Quiz Question: If we set the weights α=1 for all data points, how is the weight of mistakes WM(α,ŷ) related to the classification error?')\n",
    "print('same')"
   ]
  },
  {
   "cell_type": "code",
   "execution_count": 1041,
   "metadata": {
    "collapsed": true
   },
   "outputs": [],
   "source": [
    "# Function to pick best feature to split on\n",
    "# We continue modifying our decision tree code from the earlier assignment to incorporate \n",
    "# weighting of individual data points. The next step is to pick the best feature to split on.\n",
    "# The best_splitting_feature function is similar to the one from the earlier assignment with \n",
    "# two minor modifications:\n",
    "\n",
    "#The function best_splitting_feature should now accept an extra parameter data_weights to \n",
    "#take account of weights of data points.\n",
    "#Instead of computing the number of mistakes in the left and right side of the split, \n",
    "#we compute the weight of mistakes for both sides, add up the two weights, and divide it by \n",
    "#the total weight of the data.\n",
    "def best_splitting_feature(data, features_list, target, data_weights):\n",
    "    best_feature = None\n",
    "    best_error = 10\n",
    "\n",
    "    # Keep track of the best feature \n",
    "    # Keep track of the best error so far \n",
    "    # Note: Since error is always <= 1, we should intialize it with something larger than 1.\n",
    "    # Convert to float to make sure error gets computed correctly.\n",
    "    num_data_points = 1.0*data.shape[0]\n",
    "\n",
    "    for feature in features_list:\n",
    "        # The left split will have all data points where the feature value is 0\n",
    "        left_split = data[data[feature]==0][target]\n",
    "        # The right split will have all data points where the feature value is 1\n",
    "        right_split = data[data[feature]==1][target]\n",
    "        # Apply the same filtering to data_weights to create left_data_weights, right_data_weights\n",
    "        ## YOUR CODE HERE\n",
    "        left_data_weights = data_weights[data[feature]==0]\n",
    "        right_data_weights = data_weights[data[feature]==1]\n",
    "        # Calculate the number of misclassified examples in the left split.\n",
    "\n",
    "        # Remember that we implemented a function for this! (It was called intermediate_node_num_mistakes)\n",
    "        # YOUR CODE HERE\n",
    "        # DIFFERENT HERE\n",
    "        # Calculate the weight of mistakes for left and right sides\n",
    "        ## YOUR CODE HERE\n",
    "        left_weighted_mistakes, left_class = intermediate_node_weighted_mistakes(left_split, left_data_weights)\n",
    "        right_weighted_mistakes, right_class = intermediate_node_weighted_mistakes(right_split, right_data_weights)\n",
    "        # DIFFERENT HERE\n",
    "        # Compute weighted error by computing\n",
    "        #  ( [weight of mistakes (left)] + [weight of mistakes (right)] ) / [total weight of all data points]\n",
    "        ## YOUR CODE HERE\n",
    "\n",
    "        error = (left_weighted_mistakes + right_weighted_mistakes)/(np.sum(left_data_weights) + np.sum(right_data_weights))\n",
    "        # If this is the best error we have found so far, store the feature and the error\n",
    "        if error < best_error:\n",
    "            best_feature = feature\n",
    "            best_error = error\n",
    "    # Return the best feature we found\n",
    "    return best_feature"
   ]
  },
  {
   "cell_type": "code",
   "execution_count": 1042,
   "metadata": {
    "collapsed": true
   },
   "outputs": [],
   "source": [
    "#Building the tree\n",
    "\n",
    "#12. With the above functions implemented correctly, we are now ready to build our decision tree. \n",
    "#Let us start with a function that creates a leaf node given a set of target values. \n",
    "#The create_leaf function should be analogous to the following cell:\n",
    "\n",
    "def create_leaf(target_values, data_weights):  \n",
    "    # Create a leaf node\n",
    "    leaf = {'splitting_feature' : None,\n",
    "            'is_leaf': True}    \n",
    "    # Computed weight of mistakes.\n",
    "    # Store the predicted class (1 or -1) in leaf['prediction']\n",
    "    weighted_error, best_class = intermediate_node_weighted_mistakes(target_values, data_weights)\n",
    "    leaf['prediction'] = best_class ## YOUR CODE HERE\n",
    "    \n",
    "    return leaf"
   ]
  },
  {
   "cell_type": "code",
   "execution_count": 1043,
   "metadata": {
    "collapsed": false
   },
   "outputs": [],
   "source": [
    "#13. Now write a function that learns a weighted decision tree recursively and implements 3 stopping conditions:\n",
    "#All data points in a node are from the same class.\n",
    "#No more features to split on.\n",
    "#Stop growing the tree when the tree depth reaches max_depth.\n",
    "#Since there are many steps involved, we provide you with a Python skeleton, along with explanatory comments.\n",
    "\n",
    "def weighted_decision_tree_create(data, features, target, data_weights, current_depth = 1, max_depth = 10):\n",
    "    remaining_features = features[:] # Make a copy of the features.\n",
    "    target_values = data[target]\n",
    "    print('--------------------------------------------------------------------')\n",
    "    print('Subtree, depth = %s (%s data points).' % (current_depth, len(target_values)))\n",
    "    # Stopping condition 1. Error is 0.\n",
    "    \n",
    "    if intermediate_node_weighted_mistakes(target_values, data_weights)[0] <= 1e-15:\n",
    "        print('Stopping condition 1 reached.')                \n",
    "        return create_leaf(target_values, data_weights)\n",
    "\n",
    "    # Stopping condition 2. No more features.\n",
    "    if remaining_features == []:\n",
    "        print('Stopping condition 2 reached.')                \n",
    "        return create_leaf(target_values, data_weights)    \n",
    "\n",
    "    # Additional stopping condition (limit tree depth)\n",
    "    if current_depth > max_depth:\n",
    "        print('Reached maximum depth. Stopping for now.')\n",
    "        return create_leaf(target_values, data_weights)\n",
    "\n",
    "    # If all the datapoints are the same, splitting_feature will be None. Create a leaf   \n",
    "    splitting_feature = best_splitting_feature(data, features, target, data_weights)\n",
    "    \n",
    "    remaining_features = np.setdiff1d(remaining_features, splitting_feature)\n",
    "   \n",
    "    left_split = data[data[splitting_feature] == 0]\n",
    "    \n",
    "    right_split = data[data[splitting_feature] == 1]\n",
    "    \n",
    "    left_data_weights = data_weights[data[splitting_feature] == 0]\n",
    "    right_data_weights = data_weights[data[splitting_feature] == 1]\n",
    "    \n",
    "    print('Split on feature %s. (%s, %s)' % (splitting_feature, len(left_split), len(right_split)))\n",
    "    \n",
    "    # Create a leaf node if the split is \"perfect\"\n",
    "    if len(left_split) == len(data):\n",
    "        print('Creating leaf node.')\n",
    "        return create_leaf(left_split[target], data_weights)\n",
    "    if len(right_split) == len(data):\n",
    "        print('Creating leaf node.')\n",
    "        return create_leaf(right_split[target], data_weights)\n",
    "    \n",
    "    # Repeat (recurse) on left and right subtrees\n",
    "    left_tree = weighted_decision_tree_create(\n",
    "        left_split, remaining_features, target, left_data_weights, current_depth + 1, max_depth)\n",
    "    right_tree = weighted_decision_tree_create(\n",
    "        right_split, remaining_features, target, right_data_weights, current_depth + 1, max_depth)\n",
    "    \n",
    "    return {'is_leaf'          : False, \n",
    "            'prediction'       : None,\n",
    "            'splitting_feature': splitting_feature,\n",
    "            'left'             : left_tree, \n",
    "            'right'            : right_tree}"
   ]
  },
  {
   "cell_type": "code",
   "execution_count": 1044,
   "metadata": {
    "collapsed": true
   },
   "outputs": [],
   "source": [
    "#14. Finally, write a recursive function to count the nodes in your tree. The function should be analogous to\n",
    "\n",
    "def count_nodes(tree):\n",
    "    if tree['is_leaf']:\n",
    "        return 1\n",
    "    return 1 + count_nodes(tree['left']) + count_nodes(tree['right'])"
   ]
  },
  {
   "cell_type": "code",
   "execution_count": 1045,
   "metadata": {
    "collapsed": false
   },
   "outputs": [],
   "source": [
    "#Making predictions with a weighted decision tree\n",
    "#15. To make a single prediction, we must start at the root and traverse down the decision \n",
    "#tree in recursive fashion. Write a function classify that makes a single prediction. \n",
    "#It should be analogous to the following:\n",
    "\n",
    "def classify(tree, x, annotate = False):   \n",
    "    # If the node is a leaf node.\n",
    "\n",
    "    if tree['is_leaf']:\n",
    "        if annotate: \n",
    "            print('At leaf, predicting %s' % tree['prediction'])\n",
    "        return tree['prediction']\n",
    "    else:\n",
    "        # Split on feature.\n",
    "        split_feature_value = x[tree['splitting_feature']]\n",
    "        if annotate:\n",
    "            print('Split on %s = %s' % (tree['splitting_feature'], split_feature_value))\n",
    "        if split_feature_value == 0:\n",
    "            return classify(tree['left'], x, annotate)\n",
    "        else:\n",
    "            return classify(tree['right'], x, annotate)"
   ]
  },
  {
   "cell_type": "code",
   "execution_count": null,
   "metadata": {
    "collapsed": true
   },
   "outputs": [],
   "source": []
  },
  {
   "cell_type": "code",
   "execution_count": 1046,
   "metadata": {
    "collapsed": false
   },
   "outputs": [],
   "source": [
    "#Evaluating the tree\n",
    "#16. Create a function called evaluate_classification_error. It takes in as input:\n",
    "#tree (as described above)\n",
    "#data (an data frame)\n",
    "#The function does not change because of adding data point weights. It is analogous to this Python function:\n",
    "\n",
    "def evaluate_classification_error(tree, data):\n",
    "    # Apply the classify(tree, x) to each row in your data\n",
    "    prediction = data.apply(lambda x: classify(tree, x),axis=1)\n",
    "    # Once you've made the predictions, calculate the classification error\n",
    "    return np.sum(prediction != data[target]) / (1.0*data.shape[0])\n"
   ]
  },
  {
   "cell_type": "code",
   "execution_count": 1047,
   "metadata": {
    "collapsed": false
   },
   "outputs": [
    {
     "name": "stdout",
     "output_type": "stream",
     "text": [
      "--------------------------------------------------------------------\n",
      "Subtree, depth = 1 (37224 data points).\n"
     ]
    },
    {
     "name": "stderr",
     "output_type": "stream",
     "text": [
      "/Users/jmlbeaujour/anaconda/lib/python3.5/site-packages/ipykernel/__main__.py:3: FutureWarning: in the future, boolean array-likes will be handled as a boolean array index\n",
      "  app.launch_new_instance()\n",
      "/Users/jmlbeaujour/anaconda/lib/python3.5/site-packages/ipykernel/__main__.py:7: FutureWarning: in the future, boolean array-likes will be handled as a boolean array index\n",
      "/Users/jmlbeaujour/anaconda/lib/python3.5/site-packages/ipykernel/__main__.py:11: FutureWarning: in the future, boolean array-likes will be handled as a boolean array index\n",
      "/Users/jmlbeaujour/anaconda/lib/python3.5/site-packages/ipykernel/__main__.py:15: FutureWarning: in the future, boolean array-likes will be handled as a boolean array index\n",
      "/Users/jmlbeaujour/anaconda/lib/python3.5/site-packages/ipykernel/__main__.py:19: DeprecationWarning: elementwise == comparison failed; this will raise an error in the future.\n",
      "/Users/jmlbeaujour/anaconda/lib/python3.5/site-packages/ipykernel/__main__.py:29: FutureWarning: in the future, boolean array-likes will be handled as a boolean array index\n",
      "/Users/jmlbeaujour/anaconda/lib/python3.5/site-packages/ipykernel/__main__.py:30: FutureWarning: in the future, boolean array-likes will be handled as a boolean array index\n",
      "/Users/jmlbeaujour/anaconda/lib/python3.5/site-packages/ipykernel/__main__.py:37: FutureWarning: in the future, boolean array-likes will be handled as a boolean array index\n",
      "/Users/jmlbeaujour/anaconda/lib/python3.5/site-packages/ipykernel/__main__.py:38: FutureWarning: in the future, boolean array-likes will be handled as a boolean array index\n"
     ]
    },
    {
     "name": "stdout",
     "output_type": "stream",
     "text": [
      "Split on feature grade_A. (32094, 5130)\n",
      "--------------------------------------------------------------------\n",
      "Subtree, depth = 2 (32094 data points).\n",
      "Split on feature emp_length_1 year. (29859, 2235)\n",
      "--------------------------------------------------------------------\n",
      "Subtree, depth = 3 (29859 data points).\n",
      "Reached maximum depth. Stopping for now.\n",
      "--------------------------------------------------------------------\n",
      "Subtree, depth = 3 (2235 data points).\n",
      "Reached maximum depth. Stopping for now.\n",
      "--------------------------------------------------------------------\n",
      "Subtree, depth = 2 (5130 data points).\n",
      "Split on feature emp_length_1 year. (4765, 365)\n",
      "--------------------------------------------------------------------\n",
      "Subtree, depth = 3 (4765 data points).\n",
      "Reached maximum depth. Stopping for now.\n",
      "--------------------------------------------------------------------\n",
      "Subtree, depth = 3 (365 data points).\n",
      "Reached maximum depth. Stopping for now.\n",
      "Classification Error when usign 20pts to train:  0.496346443155\n",
      "***********************************************************************************************\n",
      "Quiz Question: Will you get the same model as small_data_decision_tree_subset_20 if you trained a decision tree with only the 20 data points with non-zero weights from the set of points in subset_20?\n",
      "No\n",
      "***********************************************************************************************\n"
     ]
    }
   ],
   "source": [
    "#Example: Training a weighted decision tree\n",
    "\n",
    "#17. To build intuition on how weighted data points affect the tree being built, consider the following:\n",
    "\n",
    "#Suppose we only care about making good predictions for the first 10 and last 10 items in train_data, \n",
    "#we assign weights:\n",
    "\n",
    "#1 to the last 10 items\n",
    "#1 to the first 10 items\n",
    "#and 0 to the rest.\n",
    "#Let us fit a weighted decision tree with max_depth = 2. \n",
    "#Then compute the classification error on the subset_20, i.e. the subset of data \n",
    "#points whose weight is 1 (namely the first and last 10 data points).\n",
    "\n",
    "# Assign weights\n",
    "example_data_weights =np.zeros(train_data.shape[0])                       \n",
    "example_data_weights[0:10] = 1\n",
    "example_data_weights[-10:data.shape[0]] = 1\n",
    "\n",
    "# Train a weighted decision tree model.\n",
    "small_data_decision_tree_subset_20 = weighted_decision_tree_create(train_data, features_list, target, example_data_weights, current_depth = 1, max_depth=2)\n",
    "#18. Now, we will compute the classification error on the subset_20, i.e. \n",
    "#the subset of data points whose weight is 1 (namely the first and last 10 data points).\n",
    "class_error = evaluate_classification_error(small_data_decision_tree_subset_20, train_data)\n",
    "#The model small_data_decision_tree_subset_20 performs a lot better on subset_20 than on train_data.\n",
    "print('Classification Error when using 20pts to train: ', class_error)\n",
    "\n",
    "#So, what does this mean?\n",
    "#The points with higher weights are the ones that are more important during the training process of \n",
    "#the weighted decision tree.\n",
    "#The points with zero weights are basically ignored during training.\n",
    "print('***********************************************************************************************')\n",
    "print('Quiz Question: Will you get the same model as small_data_decision_tree_subset_20 if you trained a decision tree with only the 20 data points with non-zero weights from the set of points in subset_20?')\n",
    "print('No')\n",
    "print('***********************************************************************************************')\n",
    "\n",
    "\n"
   ]
  },
  {
   "cell_type": "code",
   "execution_count": 1048,
   "metadata": {
    "collapsed": false
   },
   "outputs": [],
   "source": [
    "#Implementing your own Adaboost (on decision stumps)\n",
    "\n",
    "#19. Now that we have a weighted decision tree working, it takes only a bit of work to implement Adaboost. \n",
    "#For the sake of simplicity, let us stick with decision tree stumps by training trees with max_depth=1.\n",
    "#Recall from the lecture the procedure for Adaboost:\n",
    "#* Start with unweighted data with α_j = 1\n",
    "\n",
    "#* For t=1,...,T:\n",
    "\n",
    "#Learn f_t(x) with data weights α_j\n",
    "#Compute coefficient ŵ_t:\n",
    "\n",
    "#Re-compute weights α_j\n",
    "\n",
    "#Normalize weights α_j\n",
    "\n",
    "#Now write your own Adaboost function. The function accepts 4 parameters:\n",
    "\n",
    "#data: a data frame with binary features\n",
    "#features: list of feature names\n",
    "#target: name of target column\n",
    "#num_tree_stumps: number of tree stumps to train for the ensemble\n",
    "#The function should return the list of tree stumps, along with the list of corresponding tree stump weights.\n",
    "\n",
    "def adaboost_with_tree_stumps(data, features, target, num_tree_stumps):\n",
    "    # start with unweighted data\n",
    "    alpha = np.ones(data.shape[0])\n",
    "    weights = []\n",
    "    tree_stumps = []\n",
    "    target_values = data[target]\n",
    "    \n",
    "    for t in range(num_tree_stumps):\n",
    "        print ('=====================================================')\n",
    "        print ('Adaboost Iteration %d' % t)\n",
    "        print ('=====================================================')        \n",
    "        # Learn a weighted decision tree stump. Use max_depth=1\n",
    "        tree_stump = weighted_decision_tree_create(data, features, target, data_weights=alpha, max_depth=1)\n",
    "        tree_stumps.append(tree_stump)\n",
    "        \n",
    "        # Make predictions\n",
    "        predictions = data.apply(lambda x: classify(tree_stump, x))\n",
    "        \n",
    "        # Produce a Boolean array indicating whether\n",
    "        # each data point was correctly classified\n",
    "        is_correct = predictions == target_values\n",
    "        is_wrong   = predictions != target_values\n",
    "        \n",
    "        # Compute weighted error\n",
    "        # YOUR CODE HERE\n",
    "        weighted_error = np.sum(is_wrong)/(np.sum(is_wrong)+np.sum(is_correct))      \n",
    "        \n",
    "        # Compute model coefficient using weighted error\n",
    "        # YOUR CODE HERE\n",
    "        weight = 1/2 * log((1-weighted_error)/weighted_error)\n",
    "        weights.append(weight)\n",
    "        \n",
    "        # Adjust weights on data point\n",
    "        adjustment = is_correct.apply(lambda is_correct : exp(-weight) if is_correct else exp(weight))\n",
    "        \n",
    "        # Scale alpha by multiplying by adjustment\n",
    "        # Then normalize data points weights\n",
    "        ## YOUR CODE HERE \n",
    "        alpha = alpha * (is_correct * exp(-weight) + exp(weight))\n",
    "        alpha = alpha / np.sum(alpha)\n",
    "    \n",
    "    return [weights, tree_stumps]\n",
    "\n",
    "#Reminders\n",
    "#Stump weights (ŵ) and data point weights (α) are two different concepts.\n",
    "#Stump weights (ŵ) tell you how important each stump is while making predictions with the entire boosted ensemble.\n",
    "#Data point weights (α) tell you how important each data point is while training a decision stump.\n"
   ]
  },
  {
   "cell_type": "code",
   "execution_count": 1049,
   "metadata": {
    "collapsed": false
   },
   "outputs": [
    {
     "name": "stdout",
     "output_type": "stream",
     "text": [
      "=====================================================\n",
      "Adaboost Iteration 0\n",
      "=====================================================\n",
      "--------------------------------------------------------------------\n",
      "Subtree, depth = 1 (37224 data points).\n"
     ]
    },
    {
     "name": "stderr",
     "output_type": "stream",
     "text": [
      "/Users/jmlbeaujour/anaconda/lib/python3.5/site-packages/ipykernel/__main__.py:3: FutureWarning: in the future, boolean array-likes will be handled as a boolean array index\n",
      "  app.launch_new_instance()\n",
      "/Users/jmlbeaujour/anaconda/lib/python3.5/site-packages/ipykernel/__main__.py:7: FutureWarning: in the future, boolean array-likes will be handled as a boolean array index\n",
      "/Users/jmlbeaujour/anaconda/lib/python3.5/site-packages/ipykernel/__main__.py:11: FutureWarning: in the future, boolean array-likes will be handled as a boolean array index\n",
      "/Users/jmlbeaujour/anaconda/lib/python3.5/site-packages/ipykernel/__main__.py:15: FutureWarning: in the future, boolean array-likes will be handled as a boolean array index\n",
      "/Users/jmlbeaujour/anaconda/lib/python3.5/site-packages/ipykernel/__main__.py:19: DeprecationWarning: elementwise == comparison failed; this will raise an error in the future.\n",
      "/Users/jmlbeaujour/anaconda/lib/python3.5/site-packages/ipykernel/__main__.py:29: FutureWarning: in the future, boolean array-likes will be handled as a boolean array index\n",
      "/Users/jmlbeaujour/anaconda/lib/python3.5/site-packages/ipykernel/__main__.py:30: FutureWarning: in the future, boolean array-likes will be handled as a boolean array index\n"
     ]
    },
    {
     "name": "stdout",
     "output_type": "stream",
     "text": [
      "Split on feature grade_A. (32094, 5130)\n",
      "--------------------------------------------------------------------\n",
      "Subtree, depth = 2 (32094 data points).\n",
      "Reached maximum depth. Stopping for now.\n",
      "--------------------------------------------------------------------\n",
      "Subtree, depth = 2 (5130 data points).\n",
      "Reached maximum depth. Stopping for now.\n"
     ]
    },
    {
     "name": "stderr",
     "output_type": "stream",
     "text": [
      "/Users/jmlbeaujour/anaconda/lib/python3.5/site-packages/ipykernel/__main__.py:37: FutureWarning: in the future, boolean array-likes will be handled as a boolean array index\n",
      "/Users/jmlbeaujour/anaconda/lib/python3.5/site-packages/ipykernel/__main__.py:38: FutureWarning: in the future, boolean array-likes will be handled as a boolean array index\n"
     ]
    },
    {
     "ename": "KeyError",
     "evalue": "('grade_A', 'occurred at index safe_loans')",
     "output_type": "error",
     "traceback": [
      "\u001b[0;31m---------------------------------------------------------------------------\u001b[0m",
      "\u001b[0;31mTypeError\u001b[0m                                 Traceback (most recent call last)",
      "\u001b[0;32mpandas/index.pyx\u001b[0m in \u001b[0;36mpandas.index.IndexEngine.get_loc (pandas/index.c:3891)\u001b[0;34m()\u001b[0m\n",
      "\u001b[0;32mpandas/hashtable.pyx\u001b[0m in \u001b[0;36mpandas.hashtable.Int64HashTable.get_item (pandas/hashtable.c:6503)\u001b[0;34m()\u001b[0m\n",
      "\u001b[0;31mTypeError\u001b[0m: an integer is required",
      "\nDuring handling of the above exception, another exception occurred:\n",
      "\u001b[0;31mKeyError\u001b[0m                                  Traceback (most recent call last)",
      "\u001b[0;32m<ipython-input-1049-6d99c32573ad>\u001b[0m in \u001b[0;36m<module>\u001b[0;34m()\u001b[0m\n\u001b[1;32m      4\u001b[0m \u001b[0;31m#We run the adaboost_with_tree_stumps function with the following parameters:\u001b[0m\u001b[0;34m\u001b[0m\u001b[0;34m\u001b[0m\u001b[0m\n\u001b[1;32m      5\u001b[0m \u001b[0;34m\u001b[0m\u001b[0m\n\u001b[0;32m----> 6\u001b[0;31m \u001b[0madaboost_10\u001b[0m \u001b[0;34m=\u001b[0m \u001b[0madaboost_with_tree_stumps\u001b[0m\u001b[0;34m(\u001b[0m\u001b[0mtrain_data\u001b[0m\u001b[0;34m,\u001b[0m \u001b[0mfeatures_list\u001b[0m\u001b[0;34m,\u001b[0m \u001b[0mtarget\u001b[0m\u001b[0;34m,\u001b[0m \u001b[0mnum_tree_stumps\u001b[0m\u001b[0;34m=\u001b[0m\u001b[0;36m10\u001b[0m\u001b[0;34m)\u001b[0m\u001b[0;34m\u001b[0m\u001b[0m\n\u001b[0m\u001b[1;32m      7\u001b[0m \u001b[0;34m\u001b[0m\u001b[0m\n\u001b[1;32m      8\u001b[0m \u001b[0;31m#Making predictions\u001b[0m\u001b[0;34m\u001b[0m\u001b[0;34m\u001b[0m\u001b[0m\n",
      "\u001b[0;32m<ipython-input-1048-dfa9527cbb8e>\u001b[0m in \u001b[0;36madaboost_with_tree_stumps\u001b[0;34m(data, features, target, num_tree_stumps)\u001b[0m\n\u001b[1;32m     39\u001b[0m \u001b[0;34m\u001b[0m\u001b[0m\n\u001b[1;32m     40\u001b[0m         \u001b[0;31m# Make predictions\u001b[0m\u001b[0;34m\u001b[0m\u001b[0;34m\u001b[0m\u001b[0m\n\u001b[0;32m---> 41\u001b[0;31m         \u001b[0mpredictions\u001b[0m \u001b[0;34m=\u001b[0m \u001b[0mdata\u001b[0m\u001b[0;34m.\u001b[0m\u001b[0mapply\u001b[0m\u001b[0;34m(\u001b[0m\u001b[0;32mlambda\u001b[0m \u001b[0mx\u001b[0m\u001b[0;34m:\u001b[0m \u001b[0mclassify\u001b[0m\u001b[0;34m(\u001b[0m\u001b[0mtree_stump\u001b[0m\u001b[0;34m,\u001b[0m \u001b[0mx\u001b[0m\u001b[0;34m)\u001b[0m\u001b[0;34m)\u001b[0m\u001b[0;34m\u001b[0m\u001b[0m\n\u001b[0m\u001b[1;32m     42\u001b[0m \u001b[0;34m\u001b[0m\u001b[0m\n\u001b[1;32m     43\u001b[0m         \u001b[0;31m# Produce a Boolean array indicating whether\u001b[0m\u001b[0;34m\u001b[0m\u001b[0;34m\u001b[0m\u001b[0m\n",
      "\u001b[0;32m/Users/jmlbeaujour/anaconda/lib/python3.5/site-packages/pandas/core/frame.py\u001b[0m in \u001b[0;36mapply\u001b[0;34m(self, func, axis, broadcast, raw, reduce, args, **kwds)\u001b[0m\n\u001b[1;32m   4040\u001b[0m                     \u001b[0;32mif\u001b[0m \u001b[0mreduce\u001b[0m \u001b[0;32mis\u001b[0m \u001b[0;32mNone\u001b[0m\u001b[0;34m:\u001b[0m\u001b[0;34m\u001b[0m\u001b[0m\n\u001b[1;32m   4041\u001b[0m                         \u001b[0mreduce\u001b[0m \u001b[0;34m=\u001b[0m \u001b[0;32mTrue\u001b[0m\u001b[0;34m\u001b[0m\u001b[0m\n\u001b[0;32m-> 4042\u001b[0;31m                     \u001b[0;32mreturn\u001b[0m \u001b[0mself\u001b[0m\u001b[0;34m.\u001b[0m\u001b[0m_apply_standard\u001b[0m\u001b[0;34m(\u001b[0m\u001b[0mf\u001b[0m\u001b[0;34m,\u001b[0m \u001b[0maxis\u001b[0m\u001b[0;34m,\u001b[0m \u001b[0mreduce\u001b[0m\u001b[0;34m=\u001b[0m\u001b[0mreduce\u001b[0m\u001b[0;34m)\u001b[0m\u001b[0;34m\u001b[0m\u001b[0m\n\u001b[0m\u001b[1;32m   4043\u001b[0m             \u001b[0;32melse\u001b[0m\u001b[0;34m:\u001b[0m\u001b[0;34m\u001b[0m\u001b[0m\n\u001b[1;32m   4044\u001b[0m                 \u001b[0;32mreturn\u001b[0m \u001b[0mself\u001b[0m\u001b[0;34m.\u001b[0m\u001b[0m_apply_broadcast\u001b[0m\u001b[0;34m(\u001b[0m\u001b[0mf\u001b[0m\u001b[0;34m,\u001b[0m \u001b[0maxis\u001b[0m\u001b[0;34m)\u001b[0m\u001b[0;34m\u001b[0m\u001b[0m\n",
      "\u001b[0;32m/Users/jmlbeaujour/anaconda/lib/python3.5/site-packages/pandas/core/frame.py\u001b[0m in \u001b[0;36m_apply_standard\u001b[0;34m(self, func, axis, ignore_failures, reduce)\u001b[0m\n\u001b[1;32m   4136\u001b[0m             \u001b[0;32mtry\u001b[0m\u001b[0;34m:\u001b[0m\u001b[0;34m\u001b[0m\u001b[0m\n\u001b[1;32m   4137\u001b[0m                 \u001b[0;32mfor\u001b[0m \u001b[0mi\u001b[0m\u001b[0;34m,\u001b[0m \u001b[0mv\u001b[0m \u001b[0;32min\u001b[0m \u001b[0menumerate\u001b[0m\u001b[0;34m(\u001b[0m\u001b[0mseries_gen\u001b[0m\u001b[0;34m)\u001b[0m\u001b[0;34m:\u001b[0m\u001b[0;34m\u001b[0m\u001b[0m\n\u001b[0;32m-> 4138\u001b[0;31m                     \u001b[0mresults\u001b[0m\u001b[0;34m[\u001b[0m\u001b[0mi\u001b[0m\u001b[0;34m]\u001b[0m \u001b[0;34m=\u001b[0m \u001b[0mfunc\u001b[0m\u001b[0;34m(\u001b[0m\u001b[0mv\u001b[0m\u001b[0;34m)\u001b[0m\u001b[0;34m\u001b[0m\u001b[0m\n\u001b[0m\u001b[1;32m   4139\u001b[0m                     \u001b[0mkeys\u001b[0m\u001b[0;34m.\u001b[0m\u001b[0mappend\u001b[0m\u001b[0;34m(\u001b[0m\u001b[0mv\u001b[0m\u001b[0;34m.\u001b[0m\u001b[0mname\u001b[0m\u001b[0;34m)\u001b[0m\u001b[0;34m\u001b[0m\u001b[0m\n\u001b[1;32m   4140\u001b[0m             \u001b[0;32mexcept\u001b[0m \u001b[0mException\u001b[0m \u001b[0;32mas\u001b[0m \u001b[0me\u001b[0m\u001b[0;34m:\u001b[0m\u001b[0;34m\u001b[0m\u001b[0m\n",
      "\u001b[0;32m<ipython-input-1048-dfa9527cbb8e>\u001b[0m in \u001b[0;36m<lambda>\u001b[0;34m(x)\u001b[0m\n\u001b[1;32m     39\u001b[0m \u001b[0;34m\u001b[0m\u001b[0m\n\u001b[1;32m     40\u001b[0m         \u001b[0;31m# Make predictions\u001b[0m\u001b[0;34m\u001b[0m\u001b[0;34m\u001b[0m\u001b[0m\n\u001b[0;32m---> 41\u001b[0;31m         \u001b[0mpredictions\u001b[0m \u001b[0;34m=\u001b[0m \u001b[0mdata\u001b[0m\u001b[0;34m.\u001b[0m\u001b[0mapply\u001b[0m\u001b[0;34m(\u001b[0m\u001b[0;32mlambda\u001b[0m \u001b[0mx\u001b[0m\u001b[0;34m:\u001b[0m \u001b[0mclassify\u001b[0m\u001b[0;34m(\u001b[0m\u001b[0mtree_stump\u001b[0m\u001b[0;34m,\u001b[0m \u001b[0mx\u001b[0m\u001b[0;34m)\u001b[0m\u001b[0;34m)\u001b[0m\u001b[0;34m\u001b[0m\u001b[0m\n\u001b[0m\u001b[1;32m     42\u001b[0m \u001b[0;34m\u001b[0m\u001b[0m\n\u001b[1;32m     43\u001b[0m         \u001b[0;31m# Produce a Boolean array indicating whether\u001b[0m\u001b[0;34m\u001b[0m\u001b[0;34m\u001b[0m\u001b[0m\n",
      "\u001b[0;32m<ipython-input-1045-64e8a868a40e>\u001b[0m in \u001b[0;36mclassify\u001b[0;34m(tree, x, annotate)\u001b[0m\n\u001b[1;32m     13\u001b[0m     \u001b[0;32melse\u001b[0m\u001b[0;34m:\u001b[0m\u001b[0;34m\u001b[0m\u001b[0m\n\u001b[1;32m     14\u001b[0m         \u001b[0;31m# Split on feature.\u001b[0m\u001b[0;34m\u001b[0m\u001b[0;34m\u001b[0m\u001b[0m\n\u001b[0;32m---> 15\u001b[0;31m         \u001b[0msplit_feature_value\u001b[0m \u001b[0;34m=\u001b[0m \u001b[0mx\u001b[0m\u001b[0;34m[\u001b[0m\u001b[0mtree\u001b[0m\u001b[0;34m[\u001b[0m\u001b[0;34m'splitting_feature'\u001b[0m\u001b[0;34m]\u001b[0m\u001b[0;34m]\u001b[0m\u001b[0;34m\u001b[0m\u001b[0m\n\u001b[0m\u001b[1;32m     16\u001b[0m         \u001b[0;32mif\u001b[0m \u001b[0mannotate\u001b[0m\u001b[0;34m:\u001b[0m\u001b[0;34m\u001b[0m\u001b[0m\n\u001b[1;32m     17\u001b[0m             \u001b[0mprint\u001b[0m\u001b[0;34m(\u001b[0m\u001b[0;34m'Split on %s = %s'\u001b[0m \u001b[0;34m%\u001b[0m \u001b[0;34m(\u001b[0m\u001b[0mtree\u001b[0m\u001b[0;34m[\u001b[0m\u001b[0;34m'splitting_feature'\u001b[0m\u001b[0;34m]\u001b[0m\u001b[0;34m,\u001b[0m \u001b[0msplit_feature_value\u001b[0m\u001b[0;34m)\u001b[0m\u001b[0;34m)\u001b[0m\u001b[0;34m\u001b[0m\u001b[0m\n",
      "\u001b[0;32m/Users/jmlbeaujour/anaconda/lib/python3.5/site-packages/pandas/core/series.py\u001b[0m in \u001b[0;36m__getitem__\u001b[0;34m(self, key)\u001b[0m\n\u001b[1;32m    558\u001b[0m     \u001b[0;32mdef\u001b[0m \u001b[0m__getitem__\u001b[0m\u001b[0;34m(\u001b[0m\u001b[0mself\u001b[0m\u001b[0;34m,\u001b[0m \u001b[0mkey\u001b[0m\u001b[0;34m)\u001b[0m\u001b[0;34m:\u001b[0m\u001b[0;34m\u001b[0m\u001b[0m\n\u001b[1;32m    559\u001b[0m         \u001b[0;32mtry\u001b[0m\u001b[0;34m:\u001b[0m\u001b[0;34m\u001b[0m\u001b[0m\n\u001b[0;32m--> 560\u001b[0;31m             \u001b[0mresult\u001b[0m \u001b[0;34m=\u001b[0m \u001b[0mself\u001b[0m\u001b[0;34m.\u001b[0m\u001b[0mindex\u001b[0m\u001b[0;34m.\u001b[0m\u001b[0mget_value\u001b[0m\u001b[0;34m(\u001b[0m\u001b[0mself\u001b[0m\u001b[0;34m,\u001b[0m \u001b[0mkey\u001b[0m\u001b[0;34m)\u001b[0m\u001b[0;34m\u001b[0m\u001b[0m\n\u001b[0m\u001b[1;32m    561\u001b[0m \u001b[0;34m\u001b[0m\u001b[0m\n\u001b[1;32m    562\u001b[0m             \u001b[0;32mif\u001b[0m \u001b[0;32mnot\u001b[0m \u001b[0mlib\u001b[0m\u001b[0;34m.\u001b[0m\u001b[0misscalar\u001b[0m\u001b[0;34m(\u001b[0m\u001b[0mresult\u001b[0m\u001b[0;34m)\u001b[0m\u001b[0;34m:\u001b[0m\u001b[0;34m\u001b[0m\u001b[0m\n",
      "\u001b[0;32m/Users/jmlbeaujour/anaconda/lib/python3.5/site-packages/pandas/indexes/base.py\u001b[0m in \u001b[0;36mget_value\u001b[0;34m(self, series, key)\u001b[0m\n\u001b[1;32m   1909\u001b[0m         \u001b[0;32mtry\u001b[0m\u001b[0;34m:\u001b[0m\u001b[0;34m\u001b[0m\u001b[0m\n\u001b[1;32m   1910\u001b[0m             return self._engine.get_value(s, k,\n\u001b[0;32m-> 1911\u001b[0;31m                                           tz=getattr(series.dtype, 'tz', None))\n\u001b[0m\u001b[1;32m   1912\u001b[0m         \u001b[0;32mexcept\u001b[0m \u001b[0mKeyError\u001b[0m \u001b[0;32mas\u001b[0m \u001b[0me1\u001b[0m\u001b[0;34m:\u001b[0m\u001b[0;34m\u001b[0m\u001b[0m\n\u001b[1;32m   1913\u001b[0m             \u001b[0;32mif\u001b[0m \u001b[0mlen\u001b[0m\u001b[0;34m(\u001b[0m\u001b[0mself\u001b[0m\u001b[0;34m)\u001b[0m \u001b[0;34m>\u001b[0m \u001b[0;36m0\u001b[0m \u001b[0;32mand\u001b[0m \u001b[0mself\u001b[0m\u001b[0;34m.\u001b[0m\u001b[0minferred_type\u001b[0m \u001b[0;32min\u001b[0m \u001b[0;34m[\u001b[0m\u001b[0;34m'integer'\u001b[0m\u001b[0;34m,\u001b[0m \u001b[0;34m'boolean'\u001b[0m\u001b[0;34m]\u001b[0m\u001b[0;34m:\u001b[0m\u001b[0;34m\u001b[0m\u001b[0m\n",
      "\u001b[0;32mpandas/index.pyx\u001b[0m in \u001b[0;36mpandas.index.IndexEngine.get_value (pandas/index.c:3234)\u001b[0;34m()\u001b[0m\n",
      "\u001b[0;32mpandas/index.pyx\u001b[0m in \u001b[0;36mpandas.index.IndexEngine.get_value (pandas/index.c:2931)\u001b[0;34m()\u001b[0m\n",
      "\u001b[0;32mpandas/index.pyx\u001b[0m in \u001b[0;36mpandas.index.IndexEngine.get_loc (pandas/index.c:3956)\u001b[0;34m()\u001b[0m\n",
      "\u001b[0;31mKeyError\u001b[0m: ('grade_A', 'occurred at index safe_loans')"
     ]
    }
   ],
   "source": [
    "#Training a boosted ensemble of 10 stumps\n",
    "\n",
    "#20. Let us train an ensemble of 10 decision tree stumps with Adaboost.\n",
    "#We run the adaboost_with_tree_stumps function with the following parameters:\n",
    "\n",
    "adaboost_10 = adaboost_with_tree_stumps(train_data, features_list, target, num_tree_stumps=10)\n",
    "\n",
    "#Making predictions\n",
    "#21. Recall from the lecture that in order to make predictions, we use the following formula:\n",
    "#Do the following things in a new function predict_adaboost:\n",
    "#Compute the predictions f_t(x) using the t-th decision tree\n",
    "#Compute ŵ_t f_t(x) by multiplying the stump_weights with the predictions f_t(x) from the decision trees\n",
    "#Sum the weighted predictions over each stump in the ensemble.\n",
    "#In the end, your predict_adaboost should be analogous to this Python function:\n",
    "\n",
    "def predict_adaboost(stump_weights, tree_stumps, data):\n",
    "    scores = np.zeros(data.shape[0])\n",
    "    \n",
    "    for i, tree_stump in enumerate(tree_stumps):\n",
    "        predictions = data.apply(lambda x: classify(tree_stump, x))\n",
    "        (stump_weights * predictions)/(data.shape[0])\n",
    "        # Accumulate predictions on scores array\n",
    "        \n",
    "    return scores.apply(lambda score : +1 if score > 0 else -1)\n",
    "\n",
    "score = predict_adaboost(adaboost_10[0], adaboost_10[1], train_data)\n",
    "print(scores)"
   ]
  },
  {
   "cell_type": "code",
   "execution_count": 1051,
   "metadata": {
    "collapsed": false
   },
   "outputs": [
    {
     "data": {
      "text/plain": [
       "0.7466666666666667"
      ]
     },
     "execution_count": 1051,
     "metadata": {},
     "output_type": "execute_result"
    }
   ],
   "source": [
    "5600/(5600+1900)"
   ]
  },
  {
   "cell_type": "code",
   "execution_count": null,
   "metadata": {
    "collapsed": true
   },
   "outputs": [],
   "source": []
  }
 ],
 "metadata": {
  "kernelspec": {
   "display_name": "Python 3",
   "language": "python",
   "name": "python3"
  },
  "language_info": {
   "codemirror_mode": {
    "name": "ipython",
    "version": 3
   },
   "file_extension": ".py",
   "mimetype": "text/x-python",
   "name": "python",
   "nbconvert_exporter": "python",
   "pygments_lexer": "ipython3",
   "version": "3.5.1"
  }
 },
 "nbformat": 4,
 "nbformat_minor": 0
}
